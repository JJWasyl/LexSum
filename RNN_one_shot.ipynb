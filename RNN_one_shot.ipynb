{
 "cells": [
  {
   "cell_type": "code",
   "execution_count": 15,
   "metadata": {},
   "outputs": [],
   "source": [
    "from neurotic import RNN\n",
    "from neurotic.utility import GlExtract, Plotlib, TexRact, ColabConfig\n",
    "from sklearn.model_selection import train_test_split\n",
    "from keras.preprocessing.sequence import pad_sequences\n",
    "from keras.utils import plot_model\n",
    "import pydot\n",
    "from math import ceil"
   ]
  },
  {
   "cell_type": "code",
   "execution_count": null,
   "metadata": {},
   "outputs": [],
   "source": [
    "#COLAB DRIVE MOUNT\n",
    "from google.colab import drive\n",
    "drive.mount('/content/gdrive', force_remount=True)"
   ]
  },
  {
   "cell_type": "code",
   "execution_count": 2,
   "metadata": {},
   "outputs": [],
   "source": [
    "cases, summaries = TexRact.load_arrays(\"aus_clean_stops.pkl\")"
   ]
  },
  {
   "cell_type": "code",
   "execution_count": 3,
   "metadata": {},
   "outputs": [
    {
     "name": "stdout",
     "output_type": "stream",
     "text": [
      "application for extension of time for review of decision of this court made almost eight years earlier  that decision dismissed application for review of earlier tribunal decision adverse to same applicant  subsequent joinder of applicant to substantial class action later dismissed  thereafter unsuccessful application to federal magistrates court to review original tribunal decision  thereafter present application for extension of time  present application dismissed  migration\n"
     ]
    }
   ],
   "source": [
    "print(summaries[20])"
   ]
  },
  {
   "cell_type": "code",
   "execution_count": 4,
   "metadata": {},
   "outputs": [
    {
     "name": "stdout",
     "output_type": "stream",
     "text": [
      "Found 89605 unique tokens.\n",
      "[51, 10, 883, 2, 68, 10, 153, 2, 56, 2, 26, 33, 45, 2117, 1791, 363, 415, 5, 56, 476, 51, 10, 153, 2, 415, 42, 56, 1313, 3, 202, 32, 1141, 3072, 2, 32, 3, 591, 663, 209, 490, 476, 1549, 2201, 51, 3, 116, 622, 33, 3, 153, 657, 42, 56, 1549, 187, 51, 10, 883, 2, 68, 187, 51, 476, 495]\n"
     ]
    }
   ],
   "source": [
    "vocab_length = 15000\n",
    "tokenized_cases, tokenized_summaries, vocab, reverse_vocab = TexRact.tokenize(cases, summaries, vocab_length)\n",
    "print(tokenized_summaries[20])"
   ]
  },
  {
   "cell_type": "code",
   "execution_count": 5,
   "metadata": {},
   "outputs": [
    {
     "data": {
      "image/png": "[encoded data removed]",
      "text/plain": [
       "<Figure size 432x288 with 1 Axes>"
      ]
     },
     "metadata": {
      "needs_background": "light"
     },
     "output_type": "display_data"
    }
   ],
   "source": [
    "Plotlib.plot_word_chart(vocab)"
   ]
  },
  {
   "cell_type": "code",
   "execution_count": 6,
   "metadata": {},
   "outputs": [
    {
     "name": "stdout",
     "output_type": "stream",
     "text": [
      "Cases length minimum:  111 , maximum:  428440\n",
      "Summaries length minimum:  2 , maximum:  1001\n"
     ]
    }
   ],
   "source": [
    "min_case, max_case = TexRact.min_max_seq(tokenized_cases)\n",
    "min_sum, max_sum = TexRact.min_max_seq(tokenized_summaries)\n",
    "print(\"Cases length minimum: \", min_case, \", maximum: \", max_case)\n",
    "print(\"Summaries length minimum: \", min_sum, \", maximum: \", max_sum)"
   ]
  },
  {
   "cell_type": "code",
   "execution_count": 7,
   "metadata": {},
   "outputs": [
    {
     "data": {
      "image/png": "[encoded data removed]",
      "text/plain": [
       "<Figure size 432x288 with 1 Axes>"
      ]
     },
     "metadata": {
      "needs_background": "light"
     },
     "output_type": "display_data"
    },
    {
     "data": {
      "image/png": "[encoded data removed]",
      "text/plain": [
       "<Figure size 432x288 with 1 Axes>"
      ]
     },
     "metadata": {
      "needs_background": "light"
     },
     "output_type": "display_data"
    }
   ],
   "source": [
    "Plotlib.plot_length_chart(tokenized_cases, \"Case length distribution\", bin_count=100)\n",
    "Plotlib.plot_length_chart(tokenized_summaries, \"Summary length distribution\", bin_count=50)"
   ]
  },
  {
   "cell_type": "code",
   "execution_count": 8,
   "metadata": {},
   "outputs": [],
   "source": [
    "case_len = 20000\n",
    "summary_len = 150\n",
    "batch_size = 124\n",
    "num_samples = 2332\n",
    "num_epochs = 40\n",
    "validation_split = 0.1\n",
    "embedding_dim = 100"
   ]
  },
  {
   "cell_type": "code",
   "execution_count": 9,
   "metadata": {},
   "outputs": [],
   "source": [
    "input_sequences = pad_sequences(tokenized_cases, maxlen=case_len, padding='post', truncating='pre')\n",
    "output_sequences = pad_sequences(tokenized_summaries, maxlen=summary_len, padding='post', truncating='post')"
   ]
  },
  {
   "cell_type": "code",
   "execution_count": 10,
   "metadata": {},
   "outputs": [],
   "source": [
    "del cases, summaries, tokenized_cases, tokenized_summaries"
   ]
  },
  {
   "cell_type": "code",
   "execution_count": 11,
   "metadata": {},
   "outputs": [],
   "source": [
    "X_train, X_test, y_train, y_test = train_test_split(input_sequences, output_sequences, test_size=0.2, random_state=42)\n",
    "nb_validation_samples = int(validation_split * X_train.shape[0])\n",
    "X_val = X_train[-nb_validation_samples:]\n",
    "y_val = y_train[-nb_validation_samples:]\n",
    "X_train = X_train[:-nb_validation_samples]\n",
    "y_train = y_train[:-nb_validation_samples]\n",
    "num_samples = num_samples - nb_validation_samples"
   ]
  },
  {
   "cell_type": "code",
   "execution_count": 12,
   "metadata": {},
   "outputs": [
    {
     "name": "stdout",
     "output_type": "stream",
     "text": [
      "Found 400000 word vectors.\n"
     ]
    }
   ],
   "source": [
    "embeddings_index, embedding_matrix = GlExtract.build_glove_embeddings(vocab, embedding_dim)"
   ]
  },
  {
   "cell_type": "code",
   "execution_count": 13,
   "metadata": {},
   "outputs": [
    {
     "name": "stdout",
     "output_type": "stream",
     "text": [
      "WARNING:tensorflow:From C:\\Users\\Father\\Anaconda3\\envs\\tf_gpu\\lib\\site-packages\\tensorflow\\python\\ops\\resource_variable_ops.py:435: colocate_with (from tensorflow.python.framework.ops) is deprecated and will be removed in a future version.\n",
      "Instructions for updating:\n",
      "Colocations handled automatically by placer.\n"
     ]
    }
   ],
   "source": [
    "one_shot = RNN.build_one_shot_model(vocab_length, case_len, summary_len, embedding_matrix)"
   ]
  },
  {
   "cell_type": "code",
   "execution_count": 14,
   "metadata": {},
   "outputs": [
    {
     "name": "stdout",
     "output_type": "stream",
     "text": [
      "_________________________________________________________________\n",
      "Layer (type)                 Output Shape              Param #   \n",
      "=================================================================\n",
      "Encoder-Input (InputLayer)   (None, 20000)             0         \n",
      "_________________________________________________________________\n",
      "Body-Word-Embedding (Embeddi (None, 20000, 100)        1500000   \n",
      "_________________________________________________________________\n",
      "Encoder-LSTM (LSTM)          (None, 100)               80400     \n",
      "_________________________________________________________________\n",
      "Encoder-output (RepeatVector (None, 150, 100)          0         \n",
      "_________________________________________________________________\n",
      "Decoder-LSTM (LSTM)          (None, 150, 100)          80400     \n",
      "_________________________________________________________________\n",
      "time_distributed (TimeDistri (None, 150, 15000)        1515000   \n",
      "_________________________________________________________________\n",
      "activation (Activation)      (None, 150, 15000)        0         \n",
      "=================================================================\n",
      "Total params: 3,175,800\n",
      "Trainable params: 3,175,800\n",
      "Non-trainable params: 0\n",
      "_________________________________________________________________\n"
     ]
    }
   ],
   "source": [
    "one_shot.summary()"
   ]
  },
  {
   "cell_type": "code",
   "execution_count": 16,
   "metadata": {},
   "outputs": [],
   "source": [
    "plot_model(one_shot, to_file='one_shot_graph.png')"
   ]
  },
  {
   "cell_type": "markdown",
   "metadata": {},
   "source": [
    "<img src=\"files/one_shot_graph.png\">"
   ]
  },
  {
   "cell_type": "code",
   "execution_count": 18,
   "metadata": {},
   "outputs": [],
   "source": [
    "train_data_generator = RNN.KerasBatchGenerator(X_train, y_train, case_len, summary_len, batch_size, vocab_length)\n",
    "val_data_generator = RNN.KerasBatchGenerator(X_val, y_train, case_len, summary_len, batch_size, vocab_length)"
   ]
  },
  {
   "cell_type": "code",
   "execution_count": null,
   "metadata": {},
   "outputs": [],
   "source": [
    "#COLAB TPU CONFIG ONLY\n",
    "ColabConfig.configure_tpu_colab(one_shot)\n",
    "tf.keras.backend.get_session().run(tf.global_variables_initializer())"
   ]
  },
  {
   "cell_type": "code",
   "execution_count": null,
   "metadata": {},
   "outputs": [],
   "source": [
    "checkpointer = ModelCheckpoint('model-{epoch:02d}.hdf5', verbose=1)\n",
    "one_shot_history = one_shot.fit_generator(train_data_generator.generate(),\n",
    "                                 steps_per_epoch=ceil(num_samples/batch_size),\n",
    "                                 epochs=num_epochs,\n",
    "                                 validation_data = val_data_generator.generate(),\n",
    "                                 validation_steps = ceil(nb_validation_samples/batch_size))"
   ]
  },
  {
   "cell_type": "code",
   "execution_count": null,
   "metadata": {},
   "outputs": [],
   "source": [
    "RNN.save_model(one_shot, one_shot_history, \"one_shot_40_ep\")"
   ]
  }
 ],
 "metadata": {
  "kernelspec": {
   "display_name": "Python 3",
   "language": "python",
   "name": "python3"
  },
  "language_info": {
   "codemirror_mode": {
    "name": "ipython",
    "version": 3
   },
   "file_extension": ".py",
   "mimetype": "text/x-python",
   "name": "python",
   "nbconvert_exporter": "python",
   "pygments_lexer": "ipython3",
   "version": "3.7.3"
  }
 },
 "nbformat": 4,
 "nbformat_minor": 2
}
